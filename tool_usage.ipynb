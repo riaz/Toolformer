{
 "cells": [
  {
   "cell_type": "code",
   "execution_count": 1,
   "metadata": {},
   "outputs": [],
   "source": [
    "from helper import WebSearch\n",
    "from tool_use_package.tool_user import ToolUser"
   ]
  },
  {
   "cell_type": "code",
   "execution_count": 2,
   "metadata": {},
   "outputs": [],
   "source": [
    "search_tool_name = \"search_results\"\n",
    "search_tool_description = \"Given a query, search for relevant results\"\n",
    "search_tool_parameters = [\n",
    "    {\"name\": \"query\", \"type\": \"str\", \"description\": \"Query parameter which can be any thing\"},\n",
    "]   "
   ]
  },
  {
   "cell_type": "code",
   "execution_count": 3,
   "metadata": {},
   "outputs": [],
   "source": [
    "search_tool = WebSearch(search_tool_name, search_tool_description, search_tool_parameters)"
   ]
  },
  {
   "cell_type": "code",
   "execution_count": 4,
   "metadata": {},
   "outputs": [],
   "source": [
    "# creating instance of - advanced tool user\n",
    "advanced_tool_user = ToolUser([search_tool])"
   ]
  },
  {
   "cell_type": "code",
   "execution_count": 6,
   "metadata": {},
   "outputs": [
    {
     "name": "stdout",
     "output_type": "stream",
     "text": [
      "\n",
      "\n",
      "Based on the search results, here are the key differences between Python 3.11 and 3.10:\n",
      "\n",
      "1. Speed improvements:\n",
      "- On average, Python 3.11 runs 10-25% faster than Python 3.10 on standard benchmarks\n",
      "- In some cases, Python 3.11 can be up to 60-64% faster than 3.10\n",
      "- The CPython interpreter in 3.11 is substantially more efficient and faster\n",
      "\n",
      "2. New features:\n",
      "- Python 3.11 introduces some new syntax and features like improved error locations in tracebacks, exception groups to handle multiple errors, and task/exception groups in asyncio.\n",
      "- 3.11 also has enhanced typing features like variadic generics and support for self type\n",
      "\n",
      "3. Compatibility:\n",
      "- Most Python code will work the same in 3.11 as 3.10 without changes\n",
      "- A few deprecated features and syntax have been removed in 3.11\n",
      "\n",
      "In summary, the main benefit of upgrading from Python 3.10 to 3.11 is a substantial speed boost, with the average program running 1.25x faster and some seeing speedups of 50%+. 3.11 also brings a number of new language and standard library features, while maintaining high backwards compatibility with 3.10 code.\n"
     ]
    }
   ],
   "source": [
    "# Build messages\n",
    "user_message = {\n",
    "    \"role\": \"user\",\n",
    "    \"content\": \"Difference between python 3.11 and 3.10\"\n",
    "}\n",
    "\n",
    "messages = [user_message]\n",
    "\n",
    "# Use Claude With the Provided Tools\n",
    "res = advanced_tool_user.use_tools(messages, execution_mode='automatic')\n",
    "print(res)"
   ]
  },
  {
   "cell_type": "code",
   "execution_count": 7,
   "metadata": {},
   "outputs": [],
   "source": [
    "def get_result(query: str) -> str:\n",
    "    # Build messages\n",
    "    user_message = {\n",
    "        \"role\": \"user\",\n",
    "        \"content\": query\n",
    "    }\n",
    "\n",
    "    messages = [user_message]\n",
    "\n",
    "    # Use Claude With the Provided Tools\n",
    "    res = advanced_tool_user.use_tools(messages, execution_mode='automatic')\n",
    "    return res"
   ]
  },
  {
   "cell_type": "code",
   "execution_count": 10,
   "metadata": {},
   "outputs": [
    {
     "name": "stdout",
     "output_type": "stream",
     "text": [
      "\n",
      "\n",
      "Based on the search results, it looks like there are a few good public transit options to get from Jack London Square in Oakland to Santa Clara:\n",
      "\n",
      "1. Take an Amtrak train directly from Oakland Jack London Square to the Santa Clara Amtrak station. Trains run every 4 hours and the trip takes about 1 hour. Tickets cost $23-35.\n",
      "\n",
      "2. Take an Amtrak bus from Oakland to San Jose, which runs twice daily. The bus trip takes about 1 hour 40 minutes. From San Jose you'd need to take additional transit like VTA light rail to get to your final destination in Santa Clara.\n",
      "\n",
      "3. Take a combination of BART and bus:\n",
      "- From Jack London Square, take a bus or walk to the 12th St Oakland City Center BART station \n",
      "- Take the Berryessa/North San José line to Milpitas Station\n",
      "- Transfer to the VTA Orange Line and take it to your stop in Santa Clara\n",
      "This route would likely take around 1.5-2 hours total.\n",
      "\n",
      "So in summary, the most direct public transit option is taking the Amtrak train, which runs from the Jack London Square station in Oakland straight to the Santa Clara station in about an hour for $23-35. The bus and BART options involve transfers but could be cheaper, though they will take longer.\n",
      "\n",
      "Let me know if you need any other details on schedules, fares, or routes to help plan your trip from Oakland to Santa Clara using public transportation. The key is the direct Amtrak train if the schedule works for your travel time.\n"
     ]
    }
   ],
   "source": [
    "query = \"Go from Jack London Sq to Santa Clara now using public transit options\"\n",
    "print(get_result(query))"
   ]
  },
  {
   "cell_type": "code",
   "execution_count": 11,
   "metadata": {},
   "outputs": [
    {
     "name": "stdout",
     "output_type": "stream",
     "text": [
      "\n",
      "\n",
      "Based on the search results, here are some good places to buy fresh fish in Oakland:\n",
      "\n",
      "1. Hapuku Fish Shop - They specialize in very fresh, high quality fish. Located at 5655 College Ave.\n",
      "\n",
      "2. Green Fish Seafood Market - A popular seafood market offering a wide selection of fresh fish and shellfish. Located at 3105 Telegraph Ave. \n",
      "\n",
      "3. Monterey Fish Market - Known for bringing in some of the freshest seafood in the Bay Area since 1979. They have a retail shop in Berkeley at 1582 Hopkins St.\n",
      "\n",
      "4. Farmers Markets - There are several farmers markets in Oakland and surrounding areas that have vendors selling fresh, locally caught fish. Some to check out are the Montclair Farmers Market and farmers markets in Aptos, Palo Alto, and other parts of Oakland.\n",
      "\n",
      "5. Nor-Cal Seafood - A longtime Oakland seafood distributor that supplies fresh fish to restaurants and markets in the area. They work directly with West Coast fishermen.\n",
      "\n",
      "So in summary, you have several good options between specialty fish markets, seafood shops, and local farmers markets to find high-quality, fresh fish in Oakland and the surrounding areas. I'd recommend checking out a couple to see which has the best selection and quality for the type of fish you're looking for.\n"
     ]
    }
   ],
   "source": [
    "query = \"Where can i buy fresh fish in Oakland\"\n",
    "print(get_result(query))"
   ]
  },
  {
   "cell_type": "code",
   "execution_count": 15,
   "metadata": {},
   "outputs": [
    {
     "name": "stdout",
     "output_type": "stream",
     "text": [
      "\n",
      "\n",
      "Based on the search results, here is the weekday ferry schedule from Jack London Square in Oakland to the San Francisco Ferry Building:\n",
      "\n",
      "<strong>Departing Jack London Square:</strong>\n",
      "- 6:25 am\n",
      "- 7:25 am \n",
      "- 8:25 am\n",
      "- 9:25 am\n",
      "- 4:25 pm\n",
      "- 5:25 pm  \n",
      "- 6:25 pm\n",
      "- 7:25 pm\n",
      "\n",
      "<strong>Arriving at San Francisco Ferry Building:</strong>\n",
      "- 6:55 am \n",
      "- 7:55 am\n",
      "- 8:55 am\n",
      "- 9:55 am \n",
      "- 4:55 pm\n",
      "- 5:55 pm\n",
      "- 6:55 pm\n",
      "- 7:55 pm\n",
      "\n",
      "The ferry runs approximately every hour during the morning and evening commute times on weekdays. The trip takes about 30 minutes each way. Fares are $7 one-way for adults.\n",
      "\n",
      "To summarize the weekday schedule in a time table format:\n",
      "\n",
      "Jack London Square to SF Ferry Building:\n",
      "6:25 am\n",
      "7:25 am\n",
      "8:25 am \n",
      "9:25 am\n",
      "4:25 pm\n",
      "5:25 pm\n",
      "6:25 pm  \n",
      "7:25 pm\n",
      "\n",
      "SF Ferry Building to Jack London Square:\n",
      "6:55 am\n",
      "7:55 am\n",
      "8:55 am\n",
      "9:55 am\n",
      "4:55 pm \n",
      "5:55 pm\n",
      "6:55 pm\n",
      "7:55 pm\n",
      "\n",
      "Let me know if you need any other details about the ferry schedule!\n"
     ]
    }
   ],
   "source": [
    "query = \"What is the bay area ferry schedule on weekdays from jack london to ferry building, give me the time table as list\"\n",
    "print(get_result(query))"
   ]
  },
  {
   "cell_type": "code",
   "execution_count": 16,
   "metadata": {},
   "outputs": [],
   "source": [
    "query = \"What are some of the latest news on genocide in gaza\"\n",
    "print(get_result(query))"
   ]
  }
 ],
 "metadata": {
  "kernelspec": {
   "display_name": "cookbook",
   "language": "python",
   "name": "python3"
  },
  "language_info": {
   "codemirror_mode": {
    "name": "ipython",
    "version": 3
   },
   "file_extension": ".py",
   "mimetype": "text/x-python",
   "name": "python",
   "nbconvert_exporter": "python",
   "pygments_lexer": "ipython3",
   "version": "3.10.13"
  },
  "orig_nbformat": 4
 },
 "nbformat": 4,
 "nbformat_minor": 2
}
