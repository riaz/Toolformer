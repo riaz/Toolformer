{
 "cells": [
  {
   "cell_type": "code",
   "execution_count": 1,
   "metadata": {},
   "outputs": [],
   "source": [
    "from tool_use_package.tools.neo4j_tool import CypherTool\n",
    "from tool_use_package.tool_user import ToolUser\n",
    "from dotenv import dotenv_values\n",
    "from neo4j import GraphDatabase"
   ]
  },
  {
   "cell_type": "code",
   "execution_count": 2,
   "metadata": {},
   "outputs": [],
   "source": [
    "cypher_tool_name = \"fetch_results\"\n",
    "cypher_tool_description = \"Given a query, print the results in a tabular format with columns and rows\"\n",
    "cypher_tool_parameters = [\n",
    "    {\"name\": \"query\", \"type\": \"str\", \"description\": \"A cypher query for neo4j database\"},\n",
    "]  "
   ]
  },
  {
   "cell_type": "code",
   "execution_count": 3,
   "metadata": {},
   "outputs": [],
   "source": [
    "__secrets = dotenv_values('.env')"
   ]
  },
  {
   "cell_type": "code",
   "execution_count": 4,
   "metadata": {},
   "outputs": [],
   "source": [
    "driver = GraphDatabase.driver(__secrets[\"NEO4J_HOSTNAME\"], auth=(__secrets[\"NEO4J_USERNAME\"], __secrets[\"NEO4J_PASSWORD\"]))"
   ]
  },
  {
   "cell_type": "code",
   "execution_count": 5,
   "metadata": {},
   "outputs": [],
   "source": [
    "cypher_tool = CypherTool(cypher_tool_name, cypher_tool_description, cypher_tool_parameters, driver, __secrets[\"NEO4J_DATABASE\"])"
   ]
  },
  {
   "cell_type": "code",
   "execution_count": 6,
   "metadata": {},
   "outputs": [],
   "source": [
    "# creating instance of - meta tool user\n",
    "meta_tool_user = ToolUser([cypher_tool])"
   ]
  },
  {
   "cell_type": "code",
   "execution_count": 7,
   "metadata": {},
   "outputs": [
    {
     "name": "stdout",
     "output_type": "stream",
     "text": [
      "\n",
      "MATCH (p:Person {name: \"Tom Hanks\"})-[:ACTED_IN]->(m:Movie)\n",
      "RETURN m.title\n",
      "\n",
      "\n",
      "\n",
      "The key steps:\n",
      "1. Match the Person node with name \"Tom Hanks\"\n",
      "2. Follow the ACTED_IN relationship from the Tom Hanks node to connected Movie nodes \n",
      "3. Return the title property of those Movie nodes\n",
      "\n",
      "This will return all movies Tom Hanks has acted in based on the data in the Neo4j database.\n"
     ]
    }
   ],
   "source": [
    "cyper_search_query = {\n",
    "    \"role\": \"user\",\n",
    "    \"content\": \"Movies by Tom Hanks\"\n",
    "}\n",
    "\n",
    "messages = [cyper_search_query]\n",
    "\n",
    "# Use Claude With the Provided Tools\n",
    "res = meta_tool_user.use_tools(messages, execution_mode='automatic')\n",
    "print(res)"
   ]
  }
 ],
 "metadata": {
  "kernelspec": {
   "display_name": "cookbook",
   "language": "python",
   "name": "python3"
  },
  "language_info": {
   "codemirror_mode": {
    "name": "ipython",
    "version": 3
   },
   "file_extension": ".py",
   "mimetype": "text/x-python",
   "name": "python",
   "nbconvert_exporter": "python",
   "pygments_lexer": "ipython3",
   "version": "3.10.13"
  },
  "orig_nbformat": 4
 },
 "nbformat": 4,
 "nbformat_minor": 2
}
