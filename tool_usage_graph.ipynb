{
 "cells": [
  {
   "cell_type": "code",
   "execution_count": 8,
   "metadata": {},
   "outputs": [],
   "source": [
    "from tool_use_package.tools.neo4j_tool import CypherTool\n",
    "from tool_use_package.tool_user import ToolUser\n",
    "from dotenv import dotenv_values\n",
    "from neo4j import GraphDatabase"
   ]
  },
  {
   "cell_type": "code",
   "execution_count": 9,
   "metadata": {},
   "outputs": [],
   "source": [
    "cypher_tool_name = \"fetch_results\"\n",
    "cypher_tool_description = \"Show results into a well-structured JSON\"\n",
    "cypher_tool_parameters = [\n",
    "    {\"name\": \"query\", \"type\": \"str\", \"description\": \"A cypher query for neo4j database\"},\n",
    "]  "
   ]
  },
  {
   "cell_type": "code",
   "execution_count": 10,
   "metadata": {},
   "outputs": [],
   "source": [
    "__secrets = dotenv_values('.env')"
   ]
  },
  {
   "cell_type": "code",
   "execution_count": 11,
   "metadata": {},
   "outputs": [],
   "source": [
    "driver = GraphDatabase.driver(__secrets[\"NEO4J_HOSTNAME\"], auth=(__secrets[\"NEO4J_USERNAME\"], __secrets[\"NEO4J_PASSWORD\"]))"
   ]
  },
  {
   "cell_type": "code",
   "execution_count": 12,
   "metadata": {},
   "outputs": [],
   "source": [
    "cypher_tool = CypherTool(cypher_tool_name, cypher_tool_description, cypher_tool_parameters, driver, __secrets[\"NEO4J_DATABASE\"])"
   ]
  },
  {
   "cell_type": "code",
   "execution_count": 13,
   "metadata": {},
   "outputs": [],
   "source": [
    "# creating instance of - meta tool user\n",
    "meta_tool_user = ToolUser([cypher_tool])"
   ]
  },
  {
   "cell_type": "code",
   "execution_count": 15,
   "metadata": {},
   "outputs": [
    {
     "name": "stdout",
     "output_type": "stream",
     "text": [
      "\n",
      "MATCH (p:Person {name: 'Tom Hanks'})-[:ACTED_IN]->(m:Movie)\n",
      "RETURN m.title AS movie\n",
      "\n",
      "{\"movie\":{\"0\":\"You've Got Mail\",\"1\":\"Apollo 13\",\"2\":\"Joe Versus the Volcano\",\"3\":\"That Thing You Do\",\"4\":\"Cloud Atlas\",\"5\":\"The Da Vinci Code\",\"6\":\"Sleepless in Seattle\",\"7\":\"A League of Their Own\",\"8\":\"The Green Mile\",\"9\":\"Charlie Wilson's War\",\"10\":\"Cast Away\",\"11\":\"The Polar Express\"}}\n"
     ]
    }
   ],
   "source": [
    "messages = [\n",
    "    {\n",
    "        \"role\": \"user\",\n",
    "        \"content\": \"Movies by Tom Hanks\"\n",
    "    },\n",
    "    {\n",
    "        \"role\": \"assistant\",\n",
    "        \"content\": \"Here is the result in the table format\"   \n",
    "    }\n",
    "]\n",
    "\n",
    "# Use Claude With the Provided Tools\n",
    "res = meta_tool_user.use_tools(messages, execution_mode='automatic')\n",
    "#print(res)"
   ]
  },
  {
   "cell_type": "code",
   "execution_count": 16,
   "metadata": {},
   "outputs": [
    {
     "data": {
      "text/plain": [
       "\"\\n\\nThe Cypher query matches the Person node with name 'Tom Hanks', follows the ACTED_IN relationship to the connected Movie nodes, and returns the title property of those Movie nodes aliased as 'movie'.\""
      ]
     },
     "execution_count": 16,
     "metadata": {},
     "output_type": "execute_result"
    }
   ],
   "source": [
    "res"
   ]
  }
 ],
 "metadata": {
  "kernelspec": {
   "display_name": "cookbook",
   "language": "python",
   "name": "python3"
  },
  "language_info": {
   "codemirror_mode": {
    "name": "ipython",
    "version": 3
   },
   "file_extension": ".py",
   "mimetype": "text/x-python",
   "name": "python",
   "nbconvert_exporter": "python",
   "pygments_lexer": "ipython3",
   "version": "3.10.13"
  },
  "orig_nbformat": 4
 },
 "nbformat": 4,
 "nbformat_minor": 2
}
