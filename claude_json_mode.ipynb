{
 "cells": [
  {
   "cell_type": "code",
   "execution_count": 15,
   "metadata": {},
   "outputs": [
    {
     "name": "stderr",
     "output_type": "stream",
     "text": [
      "/var/folders/w8/68vxs2xd7fd_ypjqm0prkt900000gn/T/ipykernel_64967/2926849531.py:6: DeprecationWarning: Importing display from IPython.core.display is deprecated since IPython 7.14, please import from IPython display\n",
      "  from IPython.core.display import display, HTML\n"
     ]
    }
   ],
   "source": [
    "from anthropic import Anthropic\n",
    "import json\n",
    "import re\n",
    "from pprint import pprint\n",
    "from markdown import markdown\n",
    "from IPython.core.display import display, HTML\n"
   ]
  },
  {
   "cell_type": "code",
   "execution_count": 3,
   "metadata": {},
   "outputs": [],
   "source": [
    "client = Anthropic()"
   ]
  },
  {
   "cell_type": "code",
   "execution_count": 4,
   "metadata": {},
   "outputs": [],
   "source": [
    "MODEL_NAME = \"claude-3-opus-20240229\""
   ]
  },
  {
   "cell_type": "code",
   "execution_count": 7,
   "metadata": {},
   "outputs": [],
   "source": [
    "message = client.messages.create(\n",
    "    model=MODEL_NAME,\n",
    "    max_tokens=1024,\n",
    "    messages=[\n",
    "        {\n",
    "            \"role\": \"user\",\n",
    "            \"content\": \"Give me a json dict with famous athletes and the sports they play\"\n",
    "        }\n",
    "    ]\n",
    ").content[0].text"
   ]
  },
  {
   "cell_type": "code",
   "execution_count": 16,
   "metadata": {},
   "outputs": [
    {
     "data": {
      "text/plain": [
       "'<p>Here is a JSON dictionary with famous athletes and the sports they play:</p>\\n<p><code>json\\n{\\n  \"athletes\": [\\n    {\\n      \"name\": \"Lionel Messi\",\\n      \"sport\": \"Soccer\"\\n    },\\n    {\\n      \"name\": \"LeBron James\",\\n      \"sport\": \"Basketball\"\\n    },\\n    {\\n      \"name\": \"Serena Williams\",\\n      \"sport\": \"Tennis\"\\n    },\\n    {\\n      \"name\": \"Usain Bolt\",\\n      \"sport\": \"Track and Field\"\\n    },\\n    {\\n      \"name\": \"Michael Phelps\",\\n      \"sport\": \"Swimming\"\\n    },\\n    {\\n      \"name\": \"Tom Brady\",\\n      \"sport\": \"American Football\"\\n    },\\n    {\\n      \"name\": \"Simone Biles\",\\n      \"sport\": \"Gymnastics\"\\n    },\\n    {\\n      \"name\": \"Roger Federer\",\\n      \"sport\": \"Tennis\"\\n    },\\n    {\\n      \"name\": \"Cristiano Ronaldo\",\\n      \"sport\": \"Soccer\"\\n    },\\n    {\\n      \"name\": \"Virat Kohli\",\\n      \"sport\": \"Cricket\"\\n    }\\n  ]\\n}</code></p>'"
      ]
     },
     "metadata": {},
     "output_type": "display_data"
    }
   ],
   "source": [
    "display(HTML(markdown(message)))"
   ]
  }
 ],
 "metadata": {
  "kernelspec": {
   "display_name": "cookbook",
   "language": "python",
   "name": "python3"
  },
  "language_info": {
   "codemirror_mode": {
    "name": "ipython",
    "version": 3
   },
   "file_extension": ".py",
   "mimetype": "text/x-python",
   "name": "python",
   "nbconvert_exporter": "python",
   "pygments_lexer": "ipython3",
   "version": "3.10.13"
  },
  "orig_nbformat": 4
 },
 "nbformat": 4,
 "nbformat_minor": 2
}
