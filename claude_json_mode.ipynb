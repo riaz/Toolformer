{
 "cells": [
  {
   "cell_type": "code",
   "execution_count": 15,
   "metadata": {},
   "outputs": [
    {
     "name": "stderr",
     "output_type": "stream",
     "text": [
      "/var/folders/w8/68vxs2xd7fd_ypjqm0prkt900000gn/T/ipykernel_64967/2926849531.py:6: DeprecationWarning: Importing display from IPython.core.display is deprecated since IPython 7.14, please import from IPython display\n",
      "  from IPython.core.display import display, HTML\n"
     ]
    }
   ],
   "source": [
    "from anthropic import Anthropic\n",
    "import json\n",
    "import re\n",
    "from pprint import pprint\n",
    "from markdown import markdown\n",
    "from IPython.core.display import display, HTML\n"
   ]
  },
  {
   "cell_type": "code",
   "execution_count": 3,
   "metadata": {},
   "outputs": [],
   "source": [
    "client = Anthropic()"
   ]
  },
  {
   "cell_type": "code",
   "execution_count": 4,
   "metadata": {},
   "outputs": [],
   "source": [
    "MODEL_NAME = \"claude-3-opus-20240229\""
   ]
  },
  {
   "cell_type": "code",
   "execution_count": 23,
   "metadata": {},
   "outputs": [],
   "source": [
    "message = client.messages.create(\n",
    "    model=MODEL_NAME,\n",
    "    max_tokens=1024,\n",
    "    messages=[\n",
    "        {\n",
    "            \"role\": \"user\",\n",
    "            \"content\": \"Give me a json dict with famous athletes and the sports they play\"\n",
    "        }\n",
    "    ]\n",
    ").content[0].text"
   ]
  },
  {
   "cell_type": "code",
   "execution_count": 24,
   "metadata": {},
   "outputs": [
    {
     "data": {
      "text/html": [
       "<p>Here's a JSON dictionary with famous athletes and the sports they play:</p>\n",
       "<p><code>json\n",
       "{\n",
       "  \"athletes\": [\n",
       "    {\n",
       "      \"name\": \"Lionel Messi\",\n",
       "      \"sport\": \"Soccer\"\n",
       "    },\n",
       "    {\n",
       "      \"name\": \"LeBron James\",\n",
       "      \"sport\": \"Basketball\"\n",
       "    },\n",
       "    {\n",
       "      \"name\": \"Serena Williams\",\n",
       "      \"sport\": \"Tennis\"\n",
       "    },\n",
       "    {\n",
       "      \"name\": \"Usain Bolt\",\n",
       "      \"sport\": \"Track and Field\"\n",
       "    },\n",
       "    {\n",
       "      \"name\": \"Michael Phelps\",\n",
       "      \"sport\": \"Swimming\"\n",
       "    },\n",
       "    {\n",
       "      \"name\": \"Simone Biles\",\n",
       "      \"sport\": \"Gymnastics\"\n",
       "    },\n",
       "    {\n",
       "      \"name\": \"Tom Brady\",\n",
       "      \"sport\": \"American Football\"\n",
       "    },\n",
       "    {\n",
       "      \"name\": \"Virat Kohli\",\n",
       "      \"sport\": \"Cricket\"\n",
       "    },\n",
       "    {\n",
       "      \"name\": \"Ronda Rousey\",\n",
       "      \"sport\": \"Mixed Martial Arts\"\n",
       "    },\n",
       "    {\n",
       "      \"name\": \"Novak Djokovic\",\n",
       "      \"sport\": \"Tennis\"\n",
       "    }\n",
       "  ]\n",
       "}</code></p>"
      ],
      "text/plain": [
       "<IPython.core.display.HTML object>"
      ]
     },
     "metadata": {},
     "output_type": "display_data"
    }
   ],
   "source": [
    "display(HTML(markdown(message)))"
   ]
  },
  {
   "cell_type": "code",
   "execution_count": 25,
   "metadata": {},
   "outputs": [
    {
     "name": "stdout",
     "output_type": "stream",
     "text": [
      "\n",
      "  \"athletes\": [\n",
      "    {\n",
      "      \"name\": \"Michael Jordan\",\n",
      "      \"sport\": \"Basketball\"\n",
      "    },\n",
      "    {\n",
      "      \"name\": \"Babe Ruth\", \n",
      "      \"sport\": \"Baseball\"\n",
      "    },\n",
      "    {\n",
      "      \"name\": \"Muhammad Ali\",\n",
      "      \"sport\": \"Boxing\"  \n",
      "    },\n",
      "    {\n",
      "      \"name\": \"Serena Williams\",\n",
      "      \"sport\": \"Tennis\"\n",
      "    },\n",
      "    {\n",
      "      \"name\": \"Pelé\",\n",
      "      \"sport\": \"Soccer\"\n",
      "    },\n",
      "    {\n",
      "      \"name\": \"Usain Bolt\",\n",
      "      \"sport\": \"Track and Field\"\n",
      "    },\n",
      "    {\n",
      "      \"name\": \"Michael Phelps\",\n",
      "      \"sport\": \"Swimming\"\n",
      "    },\n",
      "    {\n",
      "      \"name\": \"Wayne Gretzky\",\n",
      "      \"sport\": \"Ice Hockey\"\n",
      "    },\n",
      "    {\n",
      "      \"name\": \"Simone Biles\",\n",
      "      \"sport\": \"Gymnastics\" \n",
      "    },\n",
      "    {\n",
      "      \"name\": \"Tiger Woods\",\n",
      "      \"sport\": \"Golf\"\n",
      "    }\n",
      "  ]\n",
      "}\n"
     ]
    }
   ],
   "source": [
    "message = client.messages.create(\n",
    "    model=MODEL_NAME,\n",
    "    max_tokens=1024,\n",
    "    messages=[\n",
    "        {\n",
    "            \"role\": \"user\", \n",
    "            \"content\": \"Give me a JSON dict with names of famous athletes & their sports.\"\n",
    "        },\n",
    "        {\n",
    "            \"role\": \"assistant\",\n",
    "            \"content\": \"Here is the JSON requested:\\n{\"\n",
    "        }\n",
    "    ]\n",
    ").content[0].text\n",
    "print(message)"
   ]
  },
  {
   "cell_type": "code",
   "execution_count": 27,
   "metadata": {},
   "outputs": [
    {
     "name": "stdout",
     "output_type": "stream",
     "text": [
      " \n",
      "\n",
      "<computer_scientists>\n",
      "{\n",
      "  \"scientists\": [\n",
      "    \"Alan Turing\",\n",
      "    \"Grace Hopper\",\n",
      "    \"John von Neumann\", \n",
      "    \"Ada Lovelace\",\n",
      "    \"Claude Shannon\"\n",
      "  ]\n",
      "}\n",
      "</computer_scientists>\n",
      "\n",
      "<scientist>\n",
      "{\n",
      "  \"name\": \"Alan Turing\",\n",
      "  \"affiliation\": \"University of Manchester\",\n",
      "  \"contribution\": \"Developed the theoretical foundations of computer science and artificial intelligence\",\n",
      "  \"awards\": [\n",
      "    \"Officer of the Order of the British Empire\",\n",
      "    \"Fellow of the Royal Society\"\n",
      "  ]\n",
      "}\n",
      "</scientist>\n",
      "\n",
      "<scientist>\n",
      "{\n",
      "  \"name\": \"Grace Hopper\",\n",
      "  \"affiliation\": \"United States Navy\",\n",
      "  \"contribution\": \"Developed the first compiler for a computer programming language\",\n",
      "  \"awards\": [\n",
      "    \"National Medal of Technology\",\n",
      "    \"Presidential Medal of Freedom\"\n",
      "  ]\n",
      "}\n",
      "</scientist>\n",
      "\n",
      "<scientist>\n",
      "{\n",
      "  \"name\": \"John von Neumann\",\n",
      "  \"affiliation\": \"Institute for Advanced Study\",\n",
      "  \"contribution\": \"Made major contributions to computer architecture, game theory, and quantum mechanics\",\n",
      "  \"awards\": [\n",
      "    \"Enrico Fermi Award\",\n",
      "    \"Presidential Medal of Freedom\"  \n",
      "  ]\n",
      "}\n",
      "</scientist>\n",
      "\n",
      "<scientist>\n",
      "{\n",
      "  \"name\": \"Ada Lovelace\",\n",
      "  \"affiliation\": \"None (19th century)\",\n",
      "  \"contribution\": \"Wrote the first algorithm intended to be executed by a machine, considered the first computer programmer\",\n",
      "  \"awards\": []\n",
      "}\n",
      "</scientist>\n",
      "\n",
      "<scientist>\n",
      "{\n",
      "  \"name\": \"Claude Shannon\",\n",
      "  \"affiliation\": \"Bell Labs, MIT\",\n",
      "  \"contribution\": \"Founded the field of information theory, groundbreaking work in digital circuit design\",\n",
      "  \"awards\": [\n",
      "    \"National Medal of Science\",\n",
      "    \"Harvey Prize\",\n",
      "    \"Kyoto Prize\"\n",
      "  ]\n",
      "}\n",
      "</scientist>\n"
     ]
    }
   ],
   "source": [
    "message = client.messages.create(\n",
    "    model=MODEL_NAME,\n",
    "    max_tokens=1024,\n",
    "    messages=[\n",
    "        {\n",
    "            \"role\": \"user\", \n",
    "            \"content\": \"\"\"Give me a JSON dict with the names of 5 famous computer scientists.\n",
    "Put this dictionary in <computer_scientists> tags. \n",
    "\n",
    "Then, for each scientist, output an additional JSON dictionary. In each of these additional dictionaries:\n",
    "- Include two keys: the scientists name, affiliation, contribution  and awards they won\n",
    "Put each of these additional dictionaries in separate <scientist> tags.\"\"\"\n",
    "        },\n",
    "        {\n",
    "            \"role\": \"assistant\",\n",
    "            \"content\": \"Here is the JSON requested:\"\n",
    "        }\n",
    "    ],\n",
    ").content[0].text\n",
    "print(message)"
   ]
  }
 ],
 "metadata": {
  "kernelspec": {
   "display_name": "cookbook",
   "language": "python",
   "name": "python3"
  },
  "language_info": {
   "codemirror_mode": {
    "name": "ipython",
    "version": 3
   },
   "file_extension": ".py",
   "mimetype": "text/x-python",
   "name": "python",
   "nbconvert_exporter": "python",
   "pygments_lexer": "ipython3",
   "version": "3.10.13"
  },
  "orig_nbformat": 4
 },
 "nbformat": 4,
 "nbformat_minor": 2
}
