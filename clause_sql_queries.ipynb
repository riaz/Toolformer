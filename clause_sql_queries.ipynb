{
 "cells": [
  {
   "cell_type": "code",
   "execution_count": 8,
   "metadata": {},
   "outputs": [],
   "source": [
    "from anthropic import Anthropic"
   ]
  },
  {
   "cell_type": "code",
   "execution_count": 9,
   "metadata": {},
   "outputs": [],
   "source": [
    "import sqlite3"
   ]
  },
  {
   "cell_type": "code",
   "execution_count": 25,
   "metadata": {},
   "outputs": [],
   "source": [
    "client = Anthropic()\n",
    "MODEL_NAME = \"claude-3-opus-20240229\""
   ]
  },
  {
   "cell_type": "code",
   "execution_count": 11,
   "metadata": {},
   "outputs": [],
   "source": [
    "#### Creating a Test Database"
   ]
  },
  {
   "cell_type": "code",
   "execution_count": 28,
   "metadata": {},
   "outputs": [
    {
     "data": {
      "text/plain": [
       "<sqlite3.Cursor at 0x12490cb40>"
      ]
     },
     "execution_count": 28,
     "metadata": {},
     "output_type": "execute_result"
    }
   ],
   "source": [
    "# connect to the test database ( or create if it doesn't exist)\n",
    "conn = sqlite3.connect(\"test_db.db\")\n",
    "cursor = conn.cursor()\n",
    "\n",
    "# create a sample table\n",
    "cursor.execute(\"\"\"\n",
    "    CREATE TABLE IF NOT EXISTS employees (\n",
    "               id INTEGER PRIMARY KEY,\n",
    "               name TEXT,\n",
    "               department TEXT,\n",
    "               salary INTEGER\n",
    "    )\n",
    " \"\"\")"
   ]
  },
  {
   "cell_type": "code",
   "execution_count": 13,
   "metadata": {},
   "outputs": [],
   "source": [
    "# Insert sample data\n",
    "sample_data = [\n",
    "    (1, \"John Doe\", \"Sales\", 50000),\n",
    "    (2, \"Jane Smith\", \"Engineering\", 75000),\n",
    "    (3, \"Mike Johnson\", \"Sales\", 60000),\n",
    "    (4, \"Emily Brown\", \"Engineering\", 80000),\n",
    "    (5, \"David Lee\", \"Marketing\", 55000)\n",
    "]"
   ]
  },
  {
   "cell_type": "code",
   "execution_count": null,
   "metadata": {},
   "outputs": [],
   "source": [
    "cursor.executemany(\"INSERT INTO employees VALUES (?, ?, ?, ?)\", sample_data)"
   ]
  },
  {
   "cell_type": "code",
   "execution_count": null,
   "metadata": {},
   "outputs": [],
   "source": [
    "conn.commit()"
   ]
  },
  {
   "cell_type": "markdown",
   "metadata": {},
   "source": [
    "### Generate SQL with Claude"
   ]
  },
  {
   "cell_type": "code",
   "execution_count": 22,
   "metadata": {},
   "outputs": [],
   "source": [
    "def ask_claude(query, schema):\n",
    "    prompt = f\"\"\" Here is the schema for a database\n",
    "    {schema}\n",
    "\n",
    "    Given this schema, can you output a SQL query to answer the following questions? Only output the sql query and nothing else.\n",
    "\n",
    "    Question:  {query}\n",
    "    \"\"\"\n",
    "\n",
    "    response = client.messages.create(\n",
    "        model=MODEL_NAME,\n",
    "        max_tokens=2048,\n",
    "        messages = [\n",
    "            {'role': 'user', 'content': prompt}\n",
    "        ]\n",
    "    )\n",
    "\n",
    "    return response.content[0].text"
   ]
  },
  {
   "cell_type": "code",
   "execution_count": 23,
   "metadata": {},
   "outputs": [
    {
     "name": "stdout",
     "output_type": "stream",
     "text": [
      "CREATE TABLE EMPLOYEES (\n",
      "id INTEGER\n",
      "name TEXT\n",
      "department TEXT\n",
      "salary INTEGER\n",
      ")\n"
     ]
    }
   ],
   "source": [
    "### Fetching the schema for the database\n",
    "schema = cursor.execute(\"PRAGMA table_info(employees)\").fetchall()\n",
    "schema_str = \"CREATE TABLE EMPLOYEES (\\n\" + \"\\n\".join([f\"{col[1]} {col[2]}\" for col in schema]) + \"\\n)\"\n",
    "print(schema_str)"
   ]
  },
  {
   "cell_type": "code",
   "execution_count": 26,
   "metadata": {},
   "outputs": [
    {
     "name": "stdout",
     "output_type": "stream",
     "text": [
      "SELECT name, salary\n",
      "FROM EMPLOYEES\n",
      "WHERE department = 'Engineering';\n"
     ]
    }
   ],
   "source": [
    "# Example natural language question\n",
    "question = \"What are the names and salaries of employees in the Engineering department?\"\n",
    "# Send the question to Claude and get the SQL query\n",
    "sql_query = ask_claude(question, schema_str)\n",
    "print(sql_query)"
   ]
  },
  {
   "cell_type": "code",
   "execution_count": 27,
   "metadata": {},
   "outputs": [
    {
     "name": "stdout",
     "output_type": "stream",
     "text": [
      "('Jane Smith', 75000)\n",
      "('Emily Brown', 80000)\n"
     ]
    }
   ],
   "source": [
    "# using the above response to check for correctness\n",
    "\n",
    "results = cursor.execute(sql_query).fetchall()\n",
    "\n",
    "for result in results:\n",
    "    print(result)"
   ]
  },
  {
   "cell_type": "code",
   "execution_count": 29,
   "metadata": {},
   "outputs": [
    {
     "name": "stdout",
     "output_type": "stream",
     "text": [
      "SELECT name, department, salary\n",
      "FROM EMPLOYEES\n",
      "WHERE salary > 10000;\n"
     ]
    }
   ],
   "source": [
    "# Example natural language question\n",
    "question = \"Who are thee employees with salary > 10000? Give their name, department and salary\"\n",
    "# Send the question to Claude and get the SQL query\n",
    "sql_query = ask_claude(question, schema_str)\n",
    "print(sql_query)"
   ]
  },
  {
   "cell_type": "code",
   "execution_count": 30,
   "metadata": {},
   "outputs": [
    {
     "name": "stdout",
     "output_type": "stream",
     "text": [
      "('John Doe', 'Sales', 50000)\n",
      "('Jane Smith', 'Engineering', 75000)\n",
      "('Mike Johnson', 'Sales', 60000)\n",
      "('Emily Brown', 'Engineering', 80000)\n",
      "('David Lee', 'Marketing', 55000)\n"
     ]
    }
   ],
   "source": [
    "# using the above response to check for correctness\n",
    "\n",
    "results = cursor.execute(sql_query).fetchall()\n",
    "\n",
    "for result in results:\n",
    "    print(result)"
   ]
  },
  {
   "cell_type": "code",
   "execution_count": 31,
   "metadata": {},
   "outputs": [
    {
     "name": "stdout",
     "output_type": "stream",
     "text": [
      "SELECT *\n",
      "FROM EMPLOYEES\n",
      "WHERE name LIKE 'A%' OR name LIKE 'E%' OR name LIKE 'I%' OR name LIKE 'O%' OR name LIKE 'U%'\n",
      "   OR department LIKE 'S%';\n"
     ]
    }
   ],
   "source": [
    "# Example natural language question\n",
    "question = \"Show me the employees whose name start with a vowel or department starts with S\"\n",
    "# Send the question to Claude and get the SQL query\n",
    "sql_query = ask_claude(question, schema_str)\n",
    "print(sql_query)"
   ]
  },
  {
   "cell_type": "code",
   "execution_count": 32,
   "metadata": {},
   "outputs": [
    {
     "name": "stdout",
     "output_type": "stream",
     "text": [
      "(1, 'John Doe', 'Sales', 50000)\n",
      "(3, 'Mike Johnson', 'Sales', 60000)\n",
      "(4, 'Emily Brown', 'Engineering', 80000)\n"
     ]
    }
   ],
   "source": [
    "# using the above response to check for correctness\n",
    "\n",
    "results = cursor.execute(sql_query).fetchall()\n",
    "\n",
    "for result in results:\n",
    "    print(result)"
   ]
  },
  {
   "cell_type": "code",
   "execution_count": null,
   "metadata": {},
   "outputs": [],
   "source": [
    "conn.close()"
   ]
  }
 ],
 "metadata": {
  "kernelspec": {
   "display_name": "cookbook",
   "language": "python",
   "name": "python3"
  },
  "language_info": {
   "codemirror_mode": {
    "name": "ipython",
    "version": 3
   },
   "file_extension": ".py",
   "mimetype": "text/x-python",
   "name": "python",
   "nbconvert_exporter": "python",
   "pygments_lexer": "ipython3",
   "version": "3.10.13"
  },
  "orig_nbformat": 4
 },
 "nbformat": 4,
 "nbformat_minor": 2
}
