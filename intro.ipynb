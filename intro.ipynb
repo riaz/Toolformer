{
 "cells": [
  {
   "cell_type": "code",
   "execution_count": 24,
   "metadata": {},
   "outputs": [],
   "source": [
    "import zoneinfo\n",
    "from datetime import datetime\n",
    "from dotenv import dotenv_values\n",
    "from tool_use_package.tools.base_tool import BaseTool\n",
    "\n",
    "secrets = dotenv_values('.env')\n",
    "\n",
    "class TimeOfDayTool(BaseTool):\n",
    "    \"\"\"Tool to get the current time of the day\"\"\"\n",
    "    def use_tool(self, time_zone):\n",
    "        # Get the current time\n",
    "        now = datetime.now()\n",
    "\n",
    "        # convert the current time to the specific timezone passed\n",
    "        tz = zoneinfo.ZoneInfo(time_zone)\n",
    "        localized_time = now.astimezone(tz)\n",
    "\n",
    "        return localized_time.strftime('%H:%M:%S')"
   ]
  },
  {
   "cell_type": "code",
   "execution_count": 25,
   "metadata": {},
   "outputs": [],
   "source": [
    "### Defining a claude tool\n",
    "\n",
    "tool_name = \"get_time_of_day\"\n",
    "tool_description = \"Retrieve the current time of day in Hour-Minute-Second format for a specified time zone. Time zones should be written in standard formats such as UTC, US/Pacific, Europe/London.\"\n",
    "tool_parameters = [\n",
    "    {\"name\": \"time_zone\", \"type\": \"str\", \"description\": \"The time zone to get the current time for, such as UTC, US/Pacific, Europe/London.\"}\n",
    "]\n",
    "\n",
    "time_of_day_tool = TimeOfDayTool(tool_name, tool_description, tool_parameters)"
   ]
  },
  {
   "cell_type": "code",
   "execution_count": 26,
   "metadata": {},
   "outputs": [],
   "source": [
    "from helper import WebSearch\n",
    "\n",
    "search_tool_name = \"search_results\"\n",
    "search_tool_description = \"Given a query, search for relevant results\"\n",
    "search_tool_parameters = [\n",
    "    {\"name\": \"query\", \"type\": \"string\", \"description\": \"Query parameter which can be any thing\"},\n",
    "]   \n",
    "\n",
    "search_tool = WebSearch(search_tool_name, search_tool_description, search_tool_parameters)"
   ]
  },
  {
   "cell_type": "code",
   "execution_count": 27,
   "metadata": {},
   "outputs": [],
   "source": [
    "# ToolUser is passed as a lit of tools and allowed to use Claude with these tools\n",
    "\n",
    "from tool_use_package.tool_user import ToolUser\n",
    "\n",
    "tool_user = ToolUser(tools=[search_tool])"
   ]
  },
  {
   "cell_type": "code",
   "execution_count": 28,
   "metadata": {},
   "outputs": [],
   "source": [
    "### Setting the key\n",
    "import os\n",
    "os.environ[\"ANTHROPIC_API_KEY\"] = secrets['ANTHROPIC_API_KEY']\n"
   ]
  },
  {
   "cell_type": "code",
   "execution_count": 29,
   "metadata": {},
   "outputs": [
    {
     "ename": "AttributeError",
     "evalue": "module 'builtins' has no attribute 'string'",
     "output_type": "error",
     "traceback": [
      "\u001b[0;31m---------------------------------------------------------------------------\u001b[0m",
      "\u001b[0;31mAttributeError\u001b[0m                            Traceback (most recent call last)",
      "\u001b[1;32m/Users/riaz/Projects/anthropic-tools/intro.ipynb Cell 6\u001b[0m line \u001b[0;36m5\n\u001b[1;32m      <a href='vscode-notebook-cell:/Users/riaz/Projects/anthropic-tools/intro.ipynb#W3sZmlsZQ%3D%3D?line=0'>1</a>\u001b[0m messages \u001b[39m=\u001b[39m [\n\u001b[1;32m      <a href='vscode-notebook-cell:/Users/riaz/Projects/anthropic-tools/intro.ipynb#W3sZmlsZQ%3D%3D?line=1'>2</a>\u001b[0m     \u001b[39m#{'role': 'user', 'content': 'What time is it in Los Angeles?'},\u001b[39;00m\n\u001b[1;32m      <a href='vscode-notebook-cell:/Users/riaz/Projects/anthropic-tools/intro.ipynb#W3sZmlsZQ%3D%3D?line=2'>3</a>\u001b[0m     {\u001b[39m'\u001b[39m\u001b[39mrole\u001b[39m\u001b[39m'\u001b[39m: \u001b[39m'\u001b[39m\u001b[39muser\u001b[39m\u001b[39m'\u001b[39m, \u001b[39m'\u001b[39m\u001b[39mcontent\u001b[39m\u001b[39m'\u001b[39m: \u001b[39m'\u001b[39m\u001b[39mWho are the cast of Oppenheimer the movie?\u001b[39m\u001b[39m'\u001b[39m}\n\u001b[1;32m      <a href='vscode-notebook-cell:/Users/riaz/Projects/anthropic-tools/intro.ipynb#W3sZmlsZQ%3D%3D?line=3'>4</a>\u001b[0m     ]\n\u001b[0;32m----> <a href='vscode-notebook-cell:/Users/riaz/Projects/anthropic-tools/intro.ipynb#W3sZmlsZQ%3D%3D?line=4'>5</a>\u001b[0m res \u001b[39m=\u001b[39m tool_user\u001b[39m.\u001b[39;49muse_tools(messages, execution_mode\u001b[39m=\u001b[39;49m\u001b[39m'\u001b[39;49m\u001b[39mautomatic\u001b[39;49m\u001b[39m'\u001b[39;49m)\n\u001b[1;32m      <a href='vscode-notebook-cell:/Users/riaz/Projects/anthropic-tools/intro.ipynb#W3sZmlsZQ%3D%3D?line=5'>6</a>\u001b[0m \u001b[39mprint\u001b[39m(res)\n",
      "File \u001b[0;32m~/Projects/anthropic-tools/tool_use_package/tool_user.py:106\u001b[0m, in \u001b[0;36mToolUser.use_tools\u001b[0;34m(self, messages, verbose, execution_mode, max_tokens_to_sample, temperature)\u001b[0m\n\u001b[1;32m    103\u001b[0m     \u001b[39mreturn\u001b[39;00m res\n\u001b[1;32m    105\u001b[0m \u001b[39mwhile\u001b[39;00m \u001b[39mTrue\u001b[39;00m:\n\u001b[0;32m--> 106\u001b[0m     parsed_function_calls \u001b[39m=\u001b[39m \u001b[39mself\u001b[39;49m\u001b[39m.\u001b[39;49m_parse_function_calls(formatted_completion, \u001b[39mTrue\u001b[39;49;00m)\n\u001b[1;32m    107\u001b[0m     \u001b[39mif\u001b[39;00m parsed_function_calls[\u001b[39m'\u001b[39m\u001b[39mstatus\u001b[39m\u001b[39m'\u001b[39m] \u001b[39m==\u001b[39m \u001b[39m'\u001b[39m\u001b[39mDONE\u001b[39m\u001b[39m'\u001b[39m:\n\u001b[1;32m    108\u001b[0m         \u001b[39mreturn\u001b[39;00m formatted_completion\n",
      "File \u001b[0;32m~/Projects/anthropic-tools/tool_use_package/tool_user.py:181\u001b[0m, in \u001b[0;36mToolUser._parse_function_calls\u001b[0;34m(self, last_completion, evaluate_function_calls)\u001b[0m\n\u001b[1;32m    179\u001b[0m     param_def \u001b[39m=\u001b[39m \u001b[39mnext\u001b[39m(p \u001b[39mfor\u001b[39;00m p \u001b[39min\u001b[39;00m tool\u001b[39m.\u001b[39mparameters \u001b[39mif\u001b[39;00m p[\u001b[39m'\u001b[39m\u001b[39mname\u001b[39m\u001b[39m'\u001b[39m] \u001b[39m==\u001b[39m name)\n\u001b[1;32m    180\u001b[0m     type_ \u001b[39m=\u001b[39m param_def[\u001b[39m'\u001b[39m\u001b[39mtype\u001b[39m\u001b[39m'\u001b[39m]\n\u001b[0;32m--> 181\u001b[0m     converted_params[name] \u001b[39m=\u001b[39m ToolUser\u001b[39m.\u001b[39;49m_convert_value(value, type_)\n\u001b[1;32m    183\u001b[0m \u001b[39mif\u001b[39;00m \u001b[39mnot\u001b[39;00m evaluate_function_calls:\n\u001b[1;32m    184\u001b[0m     invoke_results\u001b[39m.\u001b[39mappend({\u001b[39m\"\u001b[39m\u001b[39mtool_name\u001b[39m\u001b[39m\"\u001b[39m: tool_name, \u001b[39m\"\u001b[39m\u001b[39mtool_arguments\u001b[39m\u001b[39m\"\u001b[39m: converted_params})\n",
      "File \u001b[0;32m~/Projects/anthropic-tools/tool_use_package/tool_user.py:325\u001b[0m, in \u001b[0;36mToolUser._convert_value\u001b[0;34m(value, type_str)\u001b[0m\n\u001b[1;32m    322\u001b[0m \u001b[39mif\u001b[39;00m type_str \u001b[39min\u001b[39;00m (\u001b[39m\"\u001b[39m\u001b[39mlist\u001b[39m\u001b[39m\"\u001b[39m, \u001b[39m\"\u001b[39m\u001b[39mdict\u001b[39m\u001b[39m\"\u001b[39m):\n\u001b[1;32m    323\u001b[0m     \u001b[39mreturn\u001b[39;00m ast\u001b[39m.\u001b[39mliteral_eval(value)\n\u001b[0;32m--> 325\u001b[0m type_class \u001b[39m=\u001b[39m \u001b[39mgetattr\u001b[39;49m(builtins, type_str)\n\u001b[1;32m    326\u001b[0m \u001b[39mtry\u001b[39;00m:\n\u001b[1;32m    327\u001b[0m     \u001b[39mreturn\u001b[39;00m type_class(value)\n",
      "\u001b[0;31mAttributeError\u001b[0m: module 'builtins' has no attribute 'string'"
     ]
    }
   ],
   "source": [
    "messages = [\n",
    "    #{'role': 'user', 'content': 'What time is it in Los Angeles?'},\n",
    "    {'role': 'user', 'content': 'Who are the cast of Oppenheimer the movie?'}\n",
    "    ]\n",
    "res = tool_user.use_tools(messages, execution_mode='automatic')\n",
    "print(res)"
   ]
  },
  {
   "cell_type": "code",
   "execution_count": 6,
   "metadata": {},
   "outputs": [],
   "source": [
    "### The following example uses simple Math tool"
   ]
  },
  {
   "cell_type": "code",
   "execution_count": 4,
   "metadata": {},
   "outputs": [
    {
     "name": "stdout",
     "output_type": "stream",
     "text": [
      "\n",
      "\n",
      "Therefore, at the end of the day, Sally has a total of 14 pieces of fruit (8 apples and 6 bananas).\n"
     ]
    }
   ],
   "source": [
    "from tool_use_package.tools.base_tool import BaseTool\n",
    "from tool_use_package.tool_user import ToolUser\n",
    "\n",
    "# Create Tools\n",
    "class AdditionTool(BaseTool):\n",
    "    \"\"\"Tool to add two numbers together.\"\"\"\n",
    "    def use_tool(self, a, b):\n",
    "        return a + b\n",
    "\n",
    "class SubtractionTool(BaseTool):\n",
    "    \"\"\"Tool to subtract one number from another.\"\"\"\n",
    "    def use_tool(self, a, b):\n",
    "        return a - b\n",
    "\n",
    "# Instantiate Each Tool\n",
    "addition_tool_name = \"perform_addition\"\n",
    "addition_tool_description = \"Add two numbers, a and b, together. For example, add_numbers(a=10, b=12) -> 22. Numbers can be any rational number.\"\n",
    "addition_tool_parameters = [\n",
    "    {\"name\": \"a\", \"type\": \"float\", \"description\": \"The first number to add, such as 5\"},\n",
    "    {\"name\": \"b\", \"type\": \"float\", \"description\": \"The second number to add, such as 4.6\"}\n",
    "]\n",
    "\n",
    "subtraction_tool_name = \"perform_subtraction\"\n",
    "subtraction_tool_description = \"Perform subtraction of one number (b) from another (a) yielding a-b. For example, subtract_numbers(a=8, b=5) -> 3. Numbers can be any rational number.\"\n",
    "subtraction_tool_parameters = [\n",
    "    {\"name\": \"a\", \"type\": \"float\", \"description\": \"The minuend, such as 5\"},\n",
    "    {\"name\": \"b\", \"type\": \"float\", \"description\": \"The subtrahend, such as 9\"}\n",
    "]\n",
    "\n",
    "addition_tool = AdditionTool(addition_tool_name, addition_tool_description, addition_tool_parameters)\n",
    "subtraction_tool = SubtractionTool(subtraction_tool_name, subtraction_tool_description, subtraction_tool_parameters)\n",
    "\n",
    "# Instantiate ToolUser by Passing it Tool Instances \n",
    "math_tool_user = ToolUser([addition_tool, subtraction_tool])\n",
    "\n",
    "# Build messages\n",
    "user_message = {\n",
    "    \"role\": \"user\",\n",
    "    \"content\": \"Sally has 17 apples. She gives 9 to Jim. Later that day, Peter gives 6 Bananas to Sally. How many pieces of fruit does Sally have at the end of the day?\"\n",
    "}\n",
    "\n",
    "messages = [user_message]\n",
    "\n",
    "# Use Claude With the Provided Tools\n",
    "res = math_tool_user.use_tools(messages, execution_mode='automatic')\n",
    "print(res)"
   ]
  }
 ],
 "metadata": {
  "kernelspec": {
   "display_name": "cookbook",
   "language": "python",
   "name": "python3"
  },
  "language_info": {
   "codemirror_mode": {
    "name": "ipython",
    "version": 3
   },
   "file_extension": ".py",
   "mimetype": "text/x-python",
   "name": "python",
   "nbconvert_exporter": "python",
   "pygments_lexer": "ipython3",
   "version": "3.10.13"
  },
  "orig_nbformat": 4
 },
 "nbformat": 4,
 "nbformat_minor": 2
}
